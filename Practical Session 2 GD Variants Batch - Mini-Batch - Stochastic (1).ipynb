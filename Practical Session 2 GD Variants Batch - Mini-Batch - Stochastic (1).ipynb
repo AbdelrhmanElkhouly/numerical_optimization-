{
 "cells": [
  {
   "cell_type": "markdown",
   "metadata": {},
   "source": [
    "## Practical Work 2"
   ]
  },
  {
   "cell_type": "markdown",
   "metadata": {},
   "source": [
    "For this practical work, the student will have to develop a Python program that is able to implement the gradient descent variants (Batch/Mini-Batch/Stochastic) in order to achieve the linear regression of a set of datapoints."
   ]
  },
  {
   "cell_type": "markdown",
   "metadata": {},
   "source": [
    "#### Import numpy, matplotlib.pyplot and make it inline"
   ]
  },
  {
   "cell_type": "code",
   "execution_count": 2,
   "metadata": {},
   "outputs": [],
   "source": [
    "import numpy as np\n",
    "import  matplotlib.pyplot as plt"
   ]
  },
  {
   "cell_type": "markdown",
   "metadata": {},
   "source": [
    "To have a dataset or set of data points, the student must generate a pair of arrays <b>X</b> and <b>y</b> with the values in <b>X</b> equally distributed between <b>0</b> and <b>20</b> and the values in <b>y</b> such that: \n",
    "<b>yi = a*xi + b (and a = -2, b = 1)</b>\n"
   ]
  },
  {
   "cell_type": "code",
   "execution_count": 3,
   "metadata": {},
   "outputs": [],
   "source": [
    "x = np.linspace(0,20)\n",
    "y = (-2*x)+1\n",
    "\n"
   ]
  },
  {
   "cell_type": "code",
   "execution_count": null,
   "metadata": {},
   "outputs": [],
   "source": []
  },
  {
   "cell_type": "markdown",
   "metadata": {},
   "source": [
    "#### Use your code from practical session 1 and create a function to perform GD for single variable linear regression.\n",
    "#### The function should take the following input parameters:\n",
    "##### Input data (X), Target Labels (y), Learning Rate (alpha), Maximum number of iterations\n",
    "#### The function should return the following:\n",
    "##### All Theta_0 and Theta_1 values till converge, and equivellant Losses, all hypothesis output, and optimum values of Theta_0 and Theta_1\n",
    "#### Note: you can choose any suitable stop criteria."
   ]
  },
  {
   "cell_type": "code",
   "execution_count": 4,
   "metadata": {},
   "outputs": [],
   "source": [
    "import numpy as np\n",
    "\n",
    "\n",
    "def gradient_descent(x,y,n,theta0,theta1,eta):\n",
    "    n_iter = 0\n",
    "    m = len(x)\n",
    "    x0 = np.ones(m)\n",
    "    cost_lst = []\n",
    "    theta0_lst = []\n",
    "    theta1_lst = []\n",
    "    hypo_list = []\n",
    "    for i in range(n):\n",
    "        hypo = theta0*x0 + theta1*x\n",
    "        hypo_list.append(hypo)\n",
    "        cost_func = (1/2*m) * np.sum(np.square(hypo-y))\n",
    "        diff_theta0 = (1/m) * np.sum((hypo-y)*x0)\n",
    "        diff_theta1 = (1/m) * np.sum((hypo-y)*x)\n",
    "        gradient = (diff_theta0**2 + diff_theta1**2)**.5\n",
    "        theta0 = theta0 - eta * diff_theta0\n",
    "        theta1 = theta1 - eta * diff_theta1\n",
    "        cost_lst.append(cost_func)\n",
    "        theta0_lst.append(theta0)\n",
    "        theta1_lst.append(theta1)\n",
    "        if gradient < .001:\n",
    "            break\n",
    "    return  theta0 , theta1 , cost_func , theta0_lst , theta1_lst , cost_lst,hypo_list\n",
    "\n",
    "\n",
    "                                "
   ]
  },
  {
   "cell_type": "markdown",
   "metadata": {},
   "source": [
    "#### Try your function with any input parameterss of your choice."
   ]
  },
  {
   "cell_type": "code",
   "execution_count": 5,
   "metadata": {},
   "outputs": [],
   "source": [
    " theta0 , theta1 , cost_func , theta0_lst , theta1_lst , cost_lst,hypo_list = gradient_descent(x,y,100,0,0,.005)\n",
    "    "
   ]
  },
  {
   "cell_type": "code",
   "execution_count": 6,
   "metadata": {},
   "outputs": [],
   "source": [
    "y_predict = theta0 + theta1 * x"
   ]
  },
  {
   "cell_type": "markdown",
   "metadata": {},
   "source": [
    "#### Calculate r2 score"
   ]
  },
  {
   "cell_type": "code",
   "execution_count": 7,
   "metadata": {},
   "outputs": [
    {
     "data": {
      "text/plain": [
       "0.9981252304310719"
      ]
     },
     "execution_count": 7,
     "metadata": {},
     "output_type": "execute_result"
    }
   ],
   "source": [
    "from sklearn.metrics import r2_score\n",
    "r2_score(y, y_predict)"
   ]
  },
  {
   "cell_type": "code",
   "execution_count": null,
   "metadata": {},
   "outputs": [],
   "source": []
  },
  {
   "cell_type": "code",
   "execution_count": null,
   "metadata": {},
   "outputs": [],
   "source": []
  },
  {
   "cell_type": "markdown",
   "metadata": {},
   "source": [
    "#### Plot loss vs. epochs"
   ]
  },
  {
   "cell_type": "code",
   "execution_count": 8,
   "metadata": {},
   "outputs": [
    {
     "data": {
      "text/plain": [
       "[<matplotlib.lines.Line2D at 0x19426c7f040>]"
      ]
     },
     "execution_count": 8,
     "metadata": {},
     "output_type": "execute_result"
    },
    {
     "data": {
      "image/png": "[encoded data removed]",
      "text/plain": [
       "<Figure size 432x288 with 1 Axes>"
      ]
     },
     "metadata": {
      "needs_background": "light"
     },
     "output_type": "display_data"
    }
   ],
   "source": [
    "plt.plot(cost_lst)"
   ]
  },
  {
   "cell_type": "code",
   "execution_count": null,
   "metadata": {
    "scrolled": false
   },
   "outputs": [],
   "source": []
  },
  {
   "cell_type": "markdown",
   "metadata": {},
   "source": [
    "#### Plot Theta_0 vs. loss and Theta_1 vs. loss"
   ]
  },
  {
   "cell_type": "code",
   "execution_count": 9,
   "metadata": {},
   "outputs": [
    {
     "data": {
      "text/plain": [
       "[<matplotlib.lines.Line2D at 0x19427cdfd30>]"
      ]
     },
     "execution_count": 9,
     "metadata": {},
     "output_type": "execute_result"
    },
    {
     "data": {
      "image/png": "[encoded data removed]",
      "text/plain": [
       "<Figure size 432x288 with 1 Axes>"
      ]
     },
     "metadata": {
      "needs_background": "light"
     },
     "output_type": "display_data"
    }
   ],
   "source": [
    "plt.plot(theta0_lst,cost_lst)"
   ]
  },
  {
   "cell_type": "code",
   "execution_count": 10,
   "metadata": {},
   "outputs": [
    {
     "data": {
      "text/plain": [
       "[<matplotlib.lines.Line2D at 0x19427d2d370>]"
      ]
     },
     "execution_count": 10,
     "metadata": {},
     "output_type": "execute_result"
    },
    {
     "data": {
      "image/png": "[encoded data removed]",
      "text/plain": [
       "<Figure size 432x288 with 1 Axes>"
      ]
     },
     "metadata": {
      "needs_background": "light"
     },
     "output_type": "display_data"
    }
   ],
   "source": [
    "plt.plot(theta1_lst,cost_lst)"
   ]
  },
  {
   "cell_type": "code",
   "execution_count": null,
   "metadata": {},
   "outputs": [],
   "source": []
  },
  {
   "cell_type": "markdown",
   "metadata": {},
   "source": [
    "#### Plot all regression lines till converge"
   ]
  },
  {
   "cell_type": "code",
   "execution_count": 11,
   "metadata": {},
   "outputs": [
    {
     "data": {
      "image/png": "[encoded data removed]",
      "text/plain": [
       "<Figure size 432x288 with 1 Axes>"
      ]
     },
     "metadata": {
      "needs_background": "light"
     },
     "output_type": "display_data"
    }
   ],
   "source": [
    "for i in range(len(hypo_list)):\n",
    "    plt.plot(x,hypo_list[i])"
   ]
  },
  {
   "cell_type": "code",
   "execution_count": null,
   "metadata": {},
   "outputs": [],
   "source": []
  },
  {
   "cell_type": "markdown",
   "metadata": {},
   "source": [
    "#### Plot the best regression line"
   ]
  },
  {
   "cell_type": "code",
   "execution_count": 13,
   "metadata": {},
   "outputs": [
    {
     "data": {
      "text/plain": [
       "[<matplotlib.lines.Line2D at 0x1e5fb509910>]"
      ]
     },
     "execution_count": 13,
     "metadata": {},
     "output_type": "execute_result"
    },
    {
     "data": {
      "image/png": "[encoded data removed]",
      "text/plain": [
       "<Figure size 432x288 with 1 Axes>"
      ]
     },
     "metadata": {
      "needs_background": "light"
     },
     "output_type": "display_data"
    }
   ],
   "source": [
    "plt.plot(x,y_predict)"
   ]
  },
  {
   "cell_type": "code",
   "execution_count": null,
   "metadata": {},
   "outputs": [],
   "source": []
  },
  {
   "cell_type": "markdown",
   "metadata": {},
   "source": [
    "#### Try different learning rate and number of iterations then plot loss vs. epochs, loss vs. Theat_0 and Theta_1\n",
    "#### all regression lines till converge, and the best regression line\n",
    "#### and see the difference in output."
   ]
  },
  {
   "cell_type": "code",
   "execution_count": 14,
   "metadata": {},
   "outputs": [],
   "source": [
    " theta0 , theta1 , cost_func , theta0_lst , theta1_lst , cost_lst,hypo_list = gradient_descent(x,y,100,0,0,.001)\n",
    "    "
   ]
  },
  {
   "cell_type": "code",
   "execution_count": 15,
   "metadata": {},
   "outputs": [],
   "source": [
    "y_predict = theta0 + theta1 * x"
   ]
  },
  {
   "cell_type": "code",
   "execution_count": 16,
   "metadata": {},
   "outputs": [
    {
     "data": {
      "text/plain": [
       "0.9976984742382373"
      ]
     },
     "execution_count": 16,
     "metadata": {},
     "output_type": "execute_result"
    }
   ],
   "source": [
    "from sklearn.metrics import r2_score\n",
    "r2_score(y, y_predict)"
   ]
  },
  {
   "cell_type": "code",
   "execution_count": 17,
   "metadata": {},
   "outputs": [
    {
     "data": {
      "text/plain": [
       "[<matplotlib.lines.Line2D at 0x1e5fb5553d0>]"
      ]
     },
     "execution_count": 17,
     "metadata": {},
     "output_type": "execute_result"
    },
    {
     "data": {
      "image/png": "[encoded data removed]",
      "text/plain": [
       "<Figure size 432x288 with 1 Axes>"
      ]
     },
     "metadata": {
      "needs_background": "light"
     },
     "output_type": "display_data"
    }
   ],
   "source": [
    "plt.plot(cost_lst)"
   ]
  },
  {
   "cell_type": "code",
   "execution_count": 18,
   "metadata": {},
   "outputs": [
    {
     "data": {
      "text/plain": [
       "[<matplotlib.lines.Line2D at 0x1e5fb5c6d00>]"
      ]
     },
     "execution_count": 18,
     "metadata": {},
     "output_type": "execute_result"
    },
    {
     "data": {
      "image/png": "[encoded data removed]",
      "text/plain": [
       "<Figure size 432x288 with 1 Axes>"
      ]
     },
     "metadata": {
      "needs_background": "light"
     },
     "output_type": "display_data"
    }
   ],
   "source": [
    "plt.plot(theta0_lst,cost_lst)\n"
   ]
  },
  {
   "cell_type": "code",
   "execution_count": 19,
   "metadata": {},
   "outputs": [
    {
     "data": {
      "text/plain": [
       "[<matplotlib.lines.Line2D at 0x1e5fb6249d0>]"
      ]
     },
     "execution_count": 19,
     "metadata": {},
     "output_type": "execute_result"
    },
    {
     "data": {
      "image/png": "[encoded data removed]",
      "text/plain": [
       "<Figure size 432x288 with 1 Axes>"
      ]
     },
     "metadata": {
      "needs_background": "light"
     },
     "output_type": "display_data"
    }
   ],
   "source": [
    "plt.plot(theta1_lst,cost_lst)"
   ]
  },
  {
   "cell_type": "code",
   "execution_count": 20,
   "metadata": {},
   "outputs": [
    {
     "data": {
      "image/png": "[encoded data removed]",
      "text/plain": [
       "<Figure size 432x288 with 1 Axes>"
      ]
     },
     "metadata": {
      "needs_background": "light"
     },
     "output_type": "display_data"
    }
   ],
   "source": [
    "for i in range(len(hypo_list)):\n",
    "    plt.plot(x,hypo_list[i])"
   ]
  },
  {
   "cell_type": "code",
   "execution_count": 21,
   "metadata": {},
   "outputs": [
    {
     "data": {
      "text/plain": [
       "[<matplotlib.lines.Line2D at 0x1e5fb8044c0>]"
      ]
     },
     "execution_count": 21,
     "metadata": {},
     "output_type": "execute_result"
    },
    {
     "data": {
      "image/png": "[encoded data removed]",
      "text/plain": [
       "<Figure size 432x288 with 1 Axes>"
      ]
     },
     "metadata": {
      "needs_background": "light"
     },
     "output_type": "display_data"
    }
   ],
   "source": [
    "plt.plot(x,y_predict)"
   ]
  },
  {
   "cell_type": "code",
   "execution_count": null,
   "metadata": {},
   "outputs": [],
   "source": []
  },
  {
   "cell_type": "code",
   "execution_count": null,
   "metadata": {},
   "outputs": [],
   "source": []
  },
  {
   "cell_type": "code",
   "execution_count": null,
   "metadata": {},
   "outputs": [],
   "source": []
  },
  {
   "cell_type": "code",
   "execution_count": null,
   "metadata": {},
   "outputs": [],
   "source": []
  },
  {
   "cell_type": "markdown",
   "metadata": {},
   "source": [
    "#### Update the implementation of the Batch GD to be Mini-Batch and rpeat the above plots and evaluations\n",
    "#### Change batch size and see the effect"
   ]
  },
  {
   "cell_type": "code",
   "execution_count": 31,
   "metadata": {},
   "outputs": [],
   "source": [
    "def minibatch_gradient_descent(x,y,b,theta0=0,theta1=0,alpha=0.001,n=1000):\n",
    "  m= len(x)\n",
    "  list_lossfunction=[]\n",
    "  list_theta0=[]\n",
    "  list_theta1=[]\n",
    "  b=int(b)\n",
    "  x = x.reshape(int(m/b),b)\n",
    "  y = y.reshape(int(m/b),b)\n",
    "  x0 =np.ones(m).reshape(int(m/b),b)\n",
    "  for j in range(n):\n",
    "    for i in range(int(m/b)):\n",
    "      h = theta0 * x0[i] + theta1 * x[i]\n",
    "      lossfunction = 0.5 * np.sum(( h - y[i] )**2)/b\n",
    "      diff_theta0 = np.sum((h - y[i]))/b\n",
    "      diff_theta1 = np.sum((h - y[i])*x[i])/b\n",
    "      theta0 -= alpha*diff_theta0\n",
    "      theta1 -= alpha*diff_theta1\n",
    "      list_lossfunction.append(lossfunction)\n",
    "      list_theta0.append(theta0)\n",
    "      list_theta1.append(theta1)\n",
    "    gredient = (diff_theta0**2 + diff_theta1**2)**0.5\n",
    "    if gredient < 0.0001:\n",
    "      break\n",
    "  return list_theta0,list_theta1,list_lossfunction,theta0,theta1"
   ]
  },
  {
   "cell_type": "code",
   "execution_count": 32,
   "metadata": {},
   "outputs": [],
   "source": [
    " list_theta0,list_theta1,list_lossfunction,theta0,theta1 = minibatch_gradient_descent(x,y,10,theta0=0,theta1=0,alpha=0.001,n=1000)   "
   ]
  },
  {
   "cell_type": "code",
   "execution_count": null,
   "metadata": {},
   "outputs": [],
   "source": []
  },
  {
   "cell_type": "code",
   "execution_count": null,
   "metadata": {},
   "outputs": [],
   "source": []
  },
  {
   "cell_type": "code",
   "execution_count": 33,
   "metadata": {},
   "outputs": [
    {
     "data": {
      "text/plain": [
       "0.9976984742382373"
      ]
     },
     "execution_count": 33,
     "metadata": {},
     "output_type": "execute_result"
    }
   ],
   "source": [
    "from sklearn.metrics import r2_score\n",
    "r2_score(y, y_predict)"
   ]
  },
  {
   "cell_type": "code",
   "execution_count": null,
   "metadata": {},
   "outputs": [],
   "source": []
  },
  {
   "cell_type": "code",
   "execution_count": 34,
   "metadata": {},
   "outputs": [
    {
     "data": {
      "text/plain": [
       "[<matplotlib.lines.Line2D at 0x1e5fb842070>]"
      ]
     },
     "execution_count": 34,
     "metadata": {},
     "output_type": "execute_result"
    },
    {
     "data": {
      "image/png": "[encoded data removed]",
      "text/plain": [
       "<Figure size 432x288 with 1 Axes>"
      ]
     },
     "metadata": {
      "needs_background": "light"
     },
     "output_type": "display_data"
    }
   ],
   "source": [
    "plt.plot(theta0_lst,cost_lst)\n"
   ]
  },
  {
   "cell_type": "code",
   "execution_count": 35,
   "metadata": {},
   "outputs": [
    {
     "data": {
      "text/plain": [
       "[<matplotlib.lines.Line2D at 0x1e5fb4c6400>]"
      ]
     },
     "execution_count": 35,
     "metadata": {},
     "output_type": "execute_result"
    },
    {
     "data": {
      "image/png": "[encoded data removed]",
      "text/plain": [
       "<Figure size 432x288 with 1 Axes>"
      ]
     },
     "metadata": {
      "needs_background": "light"
     },
     "output_type": "display_data"
    }
   ],
   "source": [
    "plt.plot(theta1_lst,cost_lst)"
   ]
  },
  {
   "cell_type": "code",
   "execution_count": 36,
   "metadata": {},
   "outputs": [
    {
     "data": {
      "image/png": "[encoded data removed]",
      "text/plain": [
       "<Figure size 432x288 with 1 Axes>"
      ]
     },
     "metadata": {
      "needs_background": "light"
     },
     "output_type": "display_data"
    }
   ],
   "source": [
    "for i in range(len(hypo_list)):\n",
    "    plt.plot(x,hypo_list[i])"
   ]
  },
  {
   "cell_type": "code",
   "execution_count": 37,
   "metadata": {},
   "outputs": [
    {
     "data": {
      "text/plain": [
       "[<matplotlib.lines.Line2D at 0x1e5fbb0cbb0>]"
      ]
     },
     "execution_count": 37,
     "metadata": {},
     "output_type": "execute_result"
    },
    {
     "data": {
      "image/png": "[encoded data removed]",
      "text/plain": [
       "<Figure size 432x288 with 1 Axes>"
      ]
     },
     "metadata": {
      "needs_background": "light"
     },
     "output_type": "display_data"
    }
   ],
   "source": [
    "plt.plot(x,y_predict)\n"
   ]
  },
  {
   "cell_type": "code",
   "execution_count": null,
   "metadata": {},
   "outputs": [],
   "source": []
  },
  {
   "cell_type": "code",
   "execution_count": null,
   "metadata": {},
   "outputs": [],
   "source": []
  },
  {
   "cell_type": "code",
   "execution_count": null,
   "metadata": {},
   "outputs": [],
   "source": []
  },
  {
   "cell_type": "code",
   "execution_count": null,
   "metadata": {},
   "outputs": [],
   "source": []
  },
  {
   "cell_type": "code",
   "execution_count": null,
   "metadata": {},
   "outputs": [],
   "source": []
  },
  {
   "cell_type": "markdown",
   "metadata": {},
   "source": [
    "## Stochastic GD"
   ]
  },
  {
   "cell_type": "markdown",
   "metadata": {},
   "source": [
    "#### Update the implementation of the Batch GD to beStochastic and rpeat the above plots and evaluations\n",
    "#### You can try different learning rate and see its effect.\n",
    "#### Compare to Batch and Mini-Batch GD"
   ]
  },
  {
   "cell_type": "code",
   "execution_count": 180,
   "metadata": {},
   "outputs": [],
   "source": [
    "#second trail\n",
    "import numpy as np\n",
    " \n",
    "\n",
    "\n",
    "\n",
    "theta0 = 0 \n",
    "theta1 = 0\n",
    "eta = .005\n",
    "\n",
    "def stocastic(x,y,theta0,theta1):\n",
    "  x0 = np.ones(len(x))\n",
    "  cost_lst = []\n",
    "  theta0_lst = []\n",
    "  theta1_lst = []\n",
    "  hypo_lst = []  \n",
    "  \n",
    "  for j in range(1000):\n",
    "    for i in range(len(x)):\n",
    "      predicted_value = theta0 * x0[i] + theta1 * x[i]\n",
    "     \n",
    "      \n",
    "      diff_theta0 = (predicted_value - y[i]) * x0[i]\n",
    "      diff_theta1 = (predicted_value - y[i]) *x[i]\n",
    "      theta0 = theta0 - (eta * diff_theta0)\n",
    "      theta1 = theta1 - (eta * diff_theta1)\n",
    "      cost_func = (1/2)*np.square((predicted_value - y[i]))\n",
    "      cost_lst.append(cost_func)\n",
    "      theta0_lst.append(theta0)\n",
    "      theta1_lst.append(theta1)\n",
    "      hypo_lst.append(predicted_value)\n",
    "      \n",
    "\n",
    "      \n",
    "      gradient = (diff_theta0**2 + diff_theta1**2)**.5\n",
    "      \n",
    "\n",
    "      if gradient <= .001:\n",
    "        break\n",
    "    \n",
    "  return  theta0 , theta1 , cost_func , theta0_lst , theta1_lst , cost_lst,hypo_lst\n",
    "  \n",
    "\n",
    "\n",
    "\n",
    "\n",
    "\n",
    "\n",
    "\n",
    "\n"
   ]
  },
  {
   "cell_type": "code",
   "execution_count": 181,
   "metadata": {},
   "outputs": [],
   "source": [
    "theta0 , theta1 , cost_func , theta0_lst , theta1_lst , cost_lst,hypo_lst = stocastic(x,y,0,0)"
   ]
  },
  {
   "cell_type": "code",
   "execution_count": 182,
   "metadata": {},
   "outputs": [],
   "source": [
    "y_predict = theta0 + theta1 * x"
   ]
  },
  {
   "cell_type": "code",
   "execution_count": 183,
   "metadata": {},
   "outputs": [
    {
     "data": {
      "text/plain": [
       "0.9999931234371069"
      ]
     },
     "execution_count": 183,
     "metadata": {},
     "output_type": "execute_result"
    }
   ],
   "source": [
    "from sklearn.metrics import r2_score\n",
    "r2_score(y, y_predict)"
   ]
  },
  {
   "cell_type": "code",
   "execution_count": 184,
   "metadata": {},
   "outputs": [
    {
     "data": {
      "text/plain": [
       "[<matplotlib.lines.Line2D at 0x253f4cd4e20>]"
      ]
     },
     "execution_count": 184,
     "metadata": {},
     "output_type": "execute_result"
    },
    {
     "data": {
      "image/png": "[encoded data removed]",
      "text/plain": [
       "<Figure size 432x288 with 1 Axes>"
      ]
     },
     "metadata": {
      "needs_background": "light"
     },
     "output_type": "display_data"
    }
   ],
   "source": [
    "plt.plot(cost_lst)"
   ]
  },
  {
   "cell_type": "code",
   "execution_count": 185,
   "metadata": {},
   "outputs": [
    {
     "data": {
      "text/plain": [
       "[<matplotlib.lines.Line2D at 0x253f5e26640>]"
      ]
     },
     "execution_count": 185,
     "metadata": {},
     "output_type": "execute_result"
    },
    {
     "data": {
      "image/png": "[encoded data removed]",
      "text/plain": [
       "<Figure size 432x288 with 1 Axes>"
      ]
     },
     "metadata": {
      "needs_background": "light"
     },
     "output_type": "display_data"
    }
   ],
   "source": [
    "plt.plot(theta0_lst,cost_lst)\n"
   ]
  },
  {
   "cell_type": "code",
   "execution_count": 186,
   "metadata": {},
   "outputs": [
    {
     "data": {
      "text/plain": [
       "[<matplotlib.lines.Line2D at 0x253f5e5be20>]"
      ]
     },
     "execution_count": 186,
     "metadata": {},
     "output_type": "execute_result"
    },
    {
     "data": {
      "image/png": "[encoded data removed]",
      "text/plain": [
       "<Figure size 432x288 with 1 Axes>"
      ]
     },
     "metadata": {
      "needs_background": "light"
     },
     "output_type": "display_data"
    }
   ],
   "source": [
    "plt.plot(theta1_lst,cost_lst)"
   ]
  },
  {
   "cell_type": "code",
   "execution_count": 190,
   "metadata": {},
   "outputs": [
    {
     "data": {
      "text/plain": [
       "[0.0,\n",
       " 0.005,\n",
       " 0.006191032435464815,\n",
       " -4.724558599778503e-05,\n",
       " -0.022690660230988244,\n",
       " -0.07580138102483054,\n",
       " -0.17795357925643956,\n",
       " -0.3512272144016014,\n",
       " -0.6196870213414641,\n",
       " -1.0073349329132215,\n",
       " -1.5356228069480387,\n",
       " -2.22073010263628,\n",
       " -3.070929561957325,\n",
       " -4.084454853481866,\n",
       " -5.248313934724351,\n",
       " -6.538429985609538,\n",
       " -7.921322315768631,\n",
       " -9.357273609750683,\n",
       " -10.804612353518722,\n",
       " -12.224446620032365,\n",
       " -13.585008380284295,\n",
       " -14.864782237012555,\n",
       " -16.05382712342924,\n",
       " -17.153111192613217,\n",
       " -18.172156387566332,\n",
       " -19.125680809863912,\n",
       " -20.03010417905623,\n",
       " -20.900690286367883,\n",
       " -21.749789443454695,\n",
       " -22.586245844144795,\n",
       " -23.415703975000913,\n",
       " -24.24139008147057,\n",
       " -25.064973379681227,\n",
       " -25.887259609655253,\n",
       " -26.708637928768724,\n",
       " -27.52931750092551,\n",
       " -28.349431730454185,\n",
       " -29.169077766667073,\n",
       " -29.988330983777633,\n",
       " -30.807251439563924,\n",
       " -31.625887730013435,\n",
       " -32.44427965294673,\n",
       " -33.26246013334096,\n",
       " -34.08045664966155,\n",
       " -34.89829231171673,\n",
       " -35.715986688486296,\n",
       " -36.53355645274236,\n",
       " -37.351015889013404,\n",
       " -38.16837729806784,\n",
       " -38.985651322001154,\n",
       " -0.3815078922275226,\n",
       " -1.1630271390757998,\n",
       " -1.9424768561480388,\n",
       " -2.7166863490738353,\n",
       " -3.4827989004016,\n",
       " -4.238383267361797,\n",
       " -4.981591100257477,\n",
       " -5.71134214002032,\n",
       " -6.427511554243564,\n",
       " -7.131086389274168,\n",
       " -7.824253113194478,\n",
       " -8.51037824167674,\n",
       " -9.19385156605333,\n",
       " -9.879778057752052,\n",
       " -10.573529682116327,\n",
       " -11.280198946326767,\n",
       " -12.00402589360429,\n",
       " -12.747891132443897,\n",
       " -13.512970893562454,\n",
       " -14.29863039475834,\n",
       " -15.102589206941255,\n",
       " -15.921334796713325,\n",
       " -16.75070282829662,\n",
       " -17.586502906026038,\n",
       " -18.425060509366865,\n",
       " -19.263574324711644,\n",
       " -20.10024434698807,\n",
       " -20.934190592062343,\n",
       " -21.765232521805558,\n",
       " -22.593619476690993,\n",
       " -23.41979012755697,\n",
       " -24.2442052773125,\n",
       " -25.067261052330842,\n",
       " -25.889263646946006,\n",
       " -26.710438088696634,\n",
       " -27.53094829416887,\n",
       " -28.350915815916412,\n",
       " -29.17043330386577,\n",
       " -29.98957318393199,\n",
       " -30.808393189056165,\n",
       " -31.62694003323348,\n",
       " -32.44525197311663,\n",
       " -33.26336065864711,\n",
       " -34.081292504178386,\n",
       " -34.89906972458262,\n",
       " -35.71671113102418,\n",
       " -36.534232750615985,\n",
       " -37.351648314713216,\n",
       " -38.16896964773256,\n",
       " -38.98620697965066,\n",
       " -0.32800850864526027,\n",
       " -1.1108756799143977,\n",
       " -1.8917534646827878,\n",
       " -2.6675939548451635,\n",
       " -3.435651060347425,\n",
       " -4.193587689159416,\n",
       " -4.9396270695823885,\n",
       " -5.672730775963955,\n",
       " -6.392778810076622,\n",
       " -7.100719994547146,\n",
       " -7.798656125705154,\n",
       " -8.489823349708328,\n",
       " -9.178441461661246,\n",
       " -9.869417741160838,\n",
       " -10.567916122285473,\n",
       " -11.278831903067275,\n",
       " -12.006240929548158,\n",
       " -12.752912257636492,\n",
       " -13.519976568097054,\n",
       " -14.306823660894336,\n",
       " -15.111261417364153,\n",
       " -15.929913328211454,\n",
       " -16.758776323039726,\n",
       " -17.593822280743627,\n",
       " -18.431518977900684,\n",
       " -19.26917358276738,\n",
       " -20.105055796106868,\n",
       " -20.938319711483338,\n",
       " -21.768791782171025,\n",
       " -22.59671169284485,\n",
       " -23.42250112665919,\n",
       " -24.246603041766818,\n",
       " -25.069398224406555,\n",
       " -25.89118101142812,\n",
       " -26.712167716098836,\n",
       " -27.532515907276842,\n",
       " -28.352342430350074,\n",
       " -29.171736347343717,\n",
       " -29.990767279453543,\n",
       " -30.80949072389203,\n",
       " -31.62795158563829,\n",
       " -32.44618663984258,\n",
       " -33.26422631079115,\n",
       " -34.08209598993228,\n",
       " -34.8998170318593,\n",
       " -35.717407519267574,\n",
       " -36.53488285861437,\n",
       " -37.35225624950328,\n",
       " -38.16953905844622,\n",
       " -38.98674111926044,\n",
       " -0.27658090768529436,\n",
       " -1.060743804523561,\n",
       " -1.8429943545595833,\n",
       " -2.620402681011523,\n",
       " -3.390329037137529,\n",
       " -4.150526835626013,\n",
       " -4.8992881108930435,\n",
       " -5.635614650688278,\n",
       " -6.35939110375818,\n",
       " -7.071529549236445,\n",
       " -7.774050390643662,\n",
       " -8.470064453228678,\n",
       " -9.163628119032557,\n",
       " -9.859458631507682,\n",
       " -10.562519949551962,\n",
       " -11.277517799043325,\n",
       " -12.008370187438725,\n",
       " -12.757738937973427,\n",
       " -13.52671094539818,\n",
       " -14.314699639890485,\n",
       " -15.119597793359658,\n",
       " -15.938159653031812,\n",
       " -16.766537168832688,\n",
       " -17.600858210076797,\n",
       " -18.437727339947678,\n",
       " -19.274556007567085,\n",
       " -20.109680920150407,\n",
       " -20.94228892928886,\n",
       " -21.772213208915247,\n",
       " -22.599684161830368,\n",
       " -23.425107141358733,\n",
       " -24.2489079519414,\n",
       " -25.07145263373491,\n",
       " -25.89302412528997,\n",
       " -26.71383036306584,\n",
       " -27.534022814010694,\n",
       " -28.35371379863332,\n",
       " -29.172988930000372,\n",
       " -29.991915133202113,\n",
       " -30.810545756301728,\n",
       " -31.62892396531711,\n",
       " -32.44708511126774,\n",
       " -33.2650584402486,\n",
       " -34.082868360415105,\n",
       " -34.9005353993964,\n",
       " -35.718076939629,\n",
       " -36.53550779094972,\n",
       " -37.35284064180276,\n",
       " -38.17008641852787,\n",
       " -38.98725457412415,\n",
       " -0.22714485883006313,\n",
       " -1.0125533038047936,\n",
       " -1.7961234582861083,\n",
       " -2.5750389060106955,\n",
       " -3.3467621253664297,\n",
       " -4.109133528932938,\n",
       " -4.860511292699879,\n",
       " -5.599935860540683,\n",
       " -6.327296348220061,\n",
       " -7.043469514283452,\n",
       " -7.750397521407839,\n",
       " -8.451070727029917,\n",
       " -9.149388428356135,\n",
       " -9.84988519191149,\n",
       " -10.55733274552329,\n",
       " -11.276254584164242,\n",
       " -12.010416989061572,\n",
       " -12.762378703400781,\n",
       " -13.533184531547526,\n",
       " -14.322270618803925,\n",
       " -15.127611340235207,\n",
       " -15.946086635995941,\n",
       " -16.773997473117106,\n",
       " -17.60762167054868,\n",
       " -18.44369528097034,\n",
       " -19.279729996055586,\n",
       " -20.11412693462337,\n",
       " -20.94610443772573,\n",
       " -21.775502139694144,\n",
       " -22.602541520899152,\n",
       " -23.427612237213868,\n",
       " -24.2511236036512,\n",
       " -25.073427485332676,\n",
       " -25.894795863913185,\n",
       " -26.715428623438786,\n",
       " -27.5354713652463,\n",
       " -28.35503206019294,\n",
       " -29.174193005948972,\n",
       " -29.993018535906753,\n",
       " -30.811559932206812,\n",
       " -31.62985868924766,\n",
       " -32.447948789067986,\n",
       " -33.265858345197394,\n",
       " -34.08361082057677,\n",
       " -34.90122594789559,\n",
       " -35.71872043644929,\n",
       " -36.53610852255853,\n",
       " -37.35340240330297,\n",
       " -38.17061258189603,\n",
       " -38.987748145266,\n",
       " -0.17962323851727927,\n",
       " -0.9662289973347007,\n",
       " -1.751067654110684,\n",
       " -2.531431859301584,\n",
       " -3.3048823577205626,\n",
       " -4.069343192736786,\n",
       " -4.823236120557585,\n",
       " -5.565638744208048,\n",
       " -6.2964444734842635,\n",
       " -7.016496114145736,\n",
       " -7.727660617930286,\n",
       " -8.43281253962125,\n",
       " -9.13570017475645,\n",
       " -9.840682487162363,\n",
       " -10.552346417812156,\n",
       " -11.275040287729801,\n",
       " -12.012384527564924,\n",
       " -12.766838792264767,\n",
       " -13.539407425775012,\n",
       " -14.329548408871128,\n",
       " -15.135314559663067,\n",
       " -15.953706643730582,\n",
       " -16.78116887446959,\n",
       " -17.614123213612654,\n",
       " -18.449432111358195,\n",
       " -19.28470362000302,\n",
       " -20.118400775607473,\n",
       " -20.94977218924382,\n",
       " -21.77866370546101,\n",
       " -22.605288227723587,\n",
       " -23.430020322342664,\n",
       " -24.253253453461948,\n",
       " -25.075325860101216,\n",
       " -25.896498991329228,\n",
       " -26.716964990611377,\n",
       " -27.536863820821043,\n",
       " -28.35629927160567,\n",
       " -29.175350453628983,\n",
       " -29.99407920894994,\n",
       " -30.81253483378993,\n",
       " -31.630757215662147,\n",
       " -32.44877902063881,\n",
       " -33.266627273543065,\n",
       " -34.0843245287051,\n",
       " -34.90188975465898,\n",
       " -35.719339013626765,\n",
       " -36.536685990622516,\n",
       " -37.35394241038965,\n",
       " -38.17111836940097,\n",
       " -38.98822260269015,\n",
       " -0.1339419098219868,\n",
       " -0.9216986160784771,\n",
       " -1.7077566519474314,\n",
       " -2.489513510957431,\n",
       " -3.26462439894472,\n",
       " -4.031093751435989,\n",
       " -4.78740444268974,\n",
       " -5.53266979588138,\n",
       " -6.266787348550484,\n",
       " -6.99056726850431,\n",
       " -7.7058042091118395,\n",
       " -8.41526140700191,\n",
       " -9.122542003636948,\n",
       " -9.831836160421748,\n",
       " -10.547553187411857,\n",
       " -11.273873015355884,\n",
       " -12.014275872441232,\n",
       " -12.771126162604103,\n",
       " -13.545389336214322,\n",
       " -14.336544363934257,\n",
       " -15.14271946918383,\n",
       " -15.961031563960487,\n",
       " -16.788062560758746,\n",
       " -17.62037298211334,\n",
       " -18.454946780952614,\n",
       " -19.28948463859739,\n",
       " -20.122509110582183,\n",
       " -20.953297905782268,\n",
       " -21.78170283847115,\n",
       " -22.60792856735113,\n",
       " -23.43233515351994,\n",
       " -24.25530082408264,\n",
       " -25.077150719632897,\n",
       " -25.898136164531444,\n",
       " -26.718441861419784,\n",
       " -27.538202353059322,\n",
       " -28.35751740980655,\n",
       " -29.176463078736692,\n",
       " -29.99509880705297,\n",
       " -30.813471981963126,\n",
       " -31.631620946322258,\n",
       " -32.449577101197306,\n",
       " -33.26736642486556,\n",
       " -34.08501059823279,\n",
       " -34.90252785526981,\n",
       " -35.71993363618343,\n",
       " -36.53724109603072,\n",
       " -37.3544615055102,\n",
       " -38.171604570105195,\n",
       " -38.98867868658213,\n",
       " -0.09002960679796715,\n",
       " -0.8788926896453445,\n",
       " -1.6661228837189963,\n",
       " -2.4492184655345377,\n",
       " -3.2259254439146416,\n",
       " -3.9943255333286816,\n",
       " -4.752960359268101,\n",
       " -5.500977581783124,\n",
       " -6.23827870630848,\n",
       " -6.965642526615471,\n",
       " -7.684794197484233,\n",
       " -8.398389948224166,\n",
       " -9.109893387365391,\n",
       " -9.823332410824735,\n",
       " -10.542945576560475,\n",
       " -11.272750946019038,\n",
       " -12.016093974315744,\n",
       " -12.775247503004962,\n",
       " -13.551139595048202,\n",
       " -14.343269398153897,\n",
       " -15.149837620954544,\n",
       " -15.96807282405403,\n",
       " -16.794689286598995,\n",
       " -17.62638072611007,\n",
       " -18.460247893009203,\n",
       " -19.294080510549353,\n",
       " -20.12645834882648,\n",
       " -20.956687087696086,\n",
       " -21.784624279976537,\n",
       " -22.610466658889237,\n",
       " -23.43456034203808,\n",
       " -24.257268909549207,\n",
       " -25.07890491083136,\n",
       " -25.899709937620187,\n",
       " -26.719861539881823,\n",
       " -27.539489050161468,\n",
       " -28.358688375173152,\n",
       " -29.1775326170421,\n",
       " -29.99607892085749,\n",
       " -30.81437283874062,\n",
       " -31.63245122870591,\n",
       " -32.45034427580284,\n",
       " -33.26807695229069,\n",
       " -34.08567009947445,\n",
       " -34.90314124520794,\n",
       " -35.7205052317705,\n",
       " -36.537774704784894,\n",
       " -37.354960498487934,\n",
       " -38.17207194251454,\n",
       " -38.98911710846348,\n",
       " -0.047817823298070335,\n",
       " -0.8377444379100725,\n",
       " -1.6261013979458114,\n",
       " -2.410483860050984,\n",
       " -3.1887251196568043,\n",
       " -3.9589811775208408,\n",
       " -4.719850135205125,\n",
       " -5.470512659927029,\n",
       " -6.210874071358289,\n",
       " -6.941683004204928,\n",
       " -7.66459780601577,\n",
       " -8.382171842677206,\n",
       " -9.097734593249395,\n",
       " -9.815157971949823,\n",
       " -10.538516397075083,\n",
       " -11.271672329215617,\n",
       " -12.017841669549714,\n",
       " -12.779209243035664,\n",
       " -13.556667173067314,\n",
       " -14.349734003035897,\n",
       " -15.156680119770892,\n",
       " -15.974841408850702,\n",
       " -16.80105939012849,\n",
       " -17.63215581808769,\n",
       " -18.46534371761943,\n",
       " -19.298498405728377,\n",
       " -20.13025465141773,\n",
       " -20.959945022337077,\n",
       " -21.78743258762247,\n",
       " -22.61290646193147,\n",
       " -23.436699359340878,\n",
       " -24.259160780207377,\n",
       " -25.080591170352896,\n",
       " -25.901222765787356,\n",
       " -26.72122624079141,\n",
       " -27.540725919461543,\n",
       " -28.359813994490217,\n",
       " -29.17856073709693,\n",
       " -29.997021079406966,\n",
       " -30.81523880951959,\n",
       " -31.63324935810949,\n",
       " -32.45108174129942,\n",
       " -33.26875996428904,\n",
       " -34.086304061296396,\n",
       " -34.90373088140295,\n",
       " -35.72105469211553,\n",
       " -36.53828764935065,\n",
       " -37.35544016778544,\n",
       " -38.17252121576142,\n",
       " -38.989538552301816,\n",
       " -0.0072407061000150635,\n",
       " -0.7981896668314878,\n",
       " -1.5876297584174137,\n",
       " -2.37324926591614,\n",
       " -3.1529653911625197,\n",
       " -3.92500554443943,\n",
       " -4.688022116323609,\n",
       " -5.44122750298531,\n",
       " -6.1845306906255955,\n",
       " -6.918651322805722,\n",
       " -7.645183526976945,\n",
       " -8.366581789025224,\n",
       " -9.086046652752097,\n",
       " -9.807300091122395,\n",
       " -10.534258739137691,\n",
       " -11.270635482230832,\n",
       " -12.019521684665293,\n",
       " -12.783017563277202,\n",
       " -13.561980693665262,\n",
       " -14.355948263798808,\n",
       " -15.163257640391386,\n",
       " -15.981347877798171,\n",
       " -16.807182809137327,\n",
       " -17.637707267578236,\n",
       " -18.470242204612532,\n",
       " -19.30274521634817,\n",
       " -20.13390394084339,\n",
       " -20.96307679230248,\n",
       " -21.79013214255782,\n",
       " -22.615251782734724,\n",
       " -23.438755542439242,\n",
       " -24.26097938750267,\n",
       " -25.082212128875817,\n",
       " -25.902677009146675,\n",
       " -26.722538093173785,\n",
       " -27.54191489055886,\n",
       " -28.360896023799622,\n",
       " -29.179549042837635,\n",
       " -29.997926752532145,\n",
       " -30.816071245272713,\n",
       " -31.63401657966857,\n",
       " -32.45179064818283,\n",
       " -33.26941652640527,\n",
       " -34.08691347272171,\n",
       " -34.904297683726995,\n",
       " -35.721582874413635,\n",
       " -36.53878072995598,\n",
       " -37.35590126171911,\n",
       " -38.17295309074231,\n",
       " -38.98994367557791,\n",
       " 0.03176504782906842,\n",
       " -0.7601666683054497,\n",
       " -1.550647946787753,\n",
       " -2.337456594657998,\n",
       " -3.118590470849406,\n",
       " -3.8923456298109467,\n",
       " -4.657426648772693,\n",
       " -5.413076424142819,\n",
       " -6.159207466664061,\n",
       " -6.896511551445282,\n",
       " -7.6265210727862485,\n",
       " -8.351595465735608,\n",
       " -9.07481133189994,\n",
       " -9.799746509519663,\n",
       " -10.530165960515447,\n",
       " -11.269638787513626,\n",
       " -12.021136640599087,\n",
       " -12.786678404965373,\n",
       " -13.567088446291676,\n",
       " -14.361921875107523,\n",
       " -15.169580444190737,\n",
       " -15.987602381425763,\n",
       " -16.813069096571144,\n",
       " -17.643043735216413,\n",
       " -18.47495099595779,\n",
       " -19.30682756771904,\n",
       " -20.13741191024048,\n",
       " -20.966087283364153,\n",
       " -21.792727156269923,\n",
       " -22.61750628015725,\n",
       " -23.44073209911714,\n",
       " -24.26272756858482,\n",
       " -25.083770315204475,\n",
       " -25.904074936415626,\n",
       " -26.72379914360692,\n",
       " -27.543057818328336,\n",
       " -28.36193615113988,\n",
       " -29.18049907608767,\n",
       " -29.998797353144024,\n",
       " -30.81687144465576,\n",
       " -31.63475409030041,\n",
       " -32.452472102395504,\n",
       " -33.270047662920454,\n",
       " -34.087499284473246,\n",
       " -34.90484253642981,\n",
       " -35.72209060266472,\n",
       " -36.53925471583983,\n",
       " -37.3563444996265,\n",
       " -38.17336824121126,\n",
       " -38.99033311031129,\n",
       " 0.06926029008962784,\n",
       " -0.7236161238960608,\n",
       " -1.5150982689425434,\n",
       " -2.3030500073012576,\n",
       " -3.0855467315290257,\n",
       " -3.860950481971207,\n",
       " -4.628016001564536,\n",
       " -5.3860155058225585,\n",
       " -6.134864893540562,\n",
       " -6.875229150590727,\n",
       " -7.608581328759539,\n",
       " -8.337189493135753,\n",
       " -9.064011102836497,\n",
       " -9.792485443046136,\n",
       " -10.526231676198353,\n",
       " -11.268680690153191,\n",
       " -12.022689056791016,\n",
       " -12.79019747925952,\n",
       " -13.571998399384304,\n",
       " -14.367664156197588,\n",
       " -15.175658395168266,\n",
       " -15.99361467717993,\n",
       " -16.81872743543437,\n",
       " -17.648173546250774,\n",
       " -18.47947743768651,\n",
       " -19.31075182858377,\n",
       " -20.1407840322773,\n",
       " -20.968981192090688,\n",
       " -21.795221677154757,\n",
       " -22.619673471366706,\n",
       " -23.442632112935993,\n",
       " -24.26440805073393,\n",
       " -25.08526816021437,\n",
       " -25.9054187284548,\n",
       " -26.725011359414353,\n",
       " -27.544156485814177,\n",
       " -28.362935999179633,\n",
       " -29.181412318962817,\n",
       " -29.999634239438127,\n",
       " -30.81764065603362,\n",
       " -31.6354630405712,\n",
       " -32.453127167051875,\n",
       " -33.27065435845003,\n",
       " -34.08806241045672,\n",
       " -34.90536628951828,\n",
       " -35.72257866895905,\n",
       " -36.53971034645205,\n",
       " -37.35677057298857,\n",
       " -38.1737673148309,\n",
       " -38.99070746404637,\n",
       " 0.10530351578228105,\n",
       " -0.6884810122949097,\n",
       " -1.480925264992551,\n",
       " -2.2699758272547546,\n",
       " -3.053782622744844,\n",
       " -3.8307711223773038,\n",
       " -4.599744292110728,\n",
       " -5.360002531171276,\n",
       " -6.111464995203243,\n",
       " -6.8547709182648315,\n",
       " -7.59133630768914,\n",
       " -8.323341396939162,\n",
       " -9.053629116477778,\n",
       " -9.785505563949584,\n",
       " -10.52244974843817,\n",
       " -11.267759695453178,\n",
       " -12.02418135511478,\n",
       " -12.793580276152303,\n",
       " -13.576718212800317,\n",
       " -14.373184065413843,\n",
       " -15.18150097533643,\n",
       " -15.999394144646567,\n",
       " -16.82416665311632,\n",
       " -17.653104703531675,\n",
       " -18.48382859135234,\n",
       " -19.314524121053342,\n",
       " -20.144025567691084,\n",
       " -20.971763033174412,\n",
       " -21.79761959683273,\n",
       " -22.621756737327193,\n",
       " -23.444458548045173,\n",
       " -24.26602345561522,\n",
       " -25.086708000644503,\n",
       " -25.906710481670196,\n",
       " -26.72617663173428,\n",
       " -27.545212607011592,\n",
       " -28.36389712774908,\n",
       " -29.182290196183416,\n",
       " -30.000438717013385,\n",
       " -30.818380079427794,\n",
       " -31.63614453649106,\n",
       " -32.45375686409687,\n",
       " -33.271237559479836,\n",
       " -34.08860372918657,\n",
       " -34.90586976008245,\n",
       " -35.723047834712844,\n",
       " -36.54014833260707,\n",
       " -37.357180146508426,\n",
       " -38.174150934182954,\n",
       " -38.99106732080016,\n",
       " 0.13995095476410793,\n",
       " -0.6547065203639972,\n",
       " -1.4480756227524438,\n",
       " -2.238182456572375,\n",
       " -3.0232485903500574,\n",
       " -3.801760469197793,\n",
       " -4.572567414642394,\n",
       " -5.334996918198355,\n",
       " -6.0889712662363475,\n",
       " -6.835104938248731,\n",
       " -7.5747591061819275,\n",
       " -8.310029573184062,\n",
       " -9.043649176226554,\n",
       " -9.778795983149005,\n",
       " -10.518814277173135,\n",
       " -11.266874366599883,\n",
       " -12.025615863656167,\n",
       " -12.796832073034468,\n",
       " -13.581255249766189,\n",
       " -14.37849021418605,\n",
       " -15.187117299513377,\n",
       " -16.00494980018376,\n",
       " -16.829395235162533,\n",
       " -17.657844899996235,\n",
       " -18.48801124504773,\n",
       " -19.318150330157817,\n",
       " -20.147141573495176,\n",
       " -20.97443714647457,\n",
       " -21.79992465621988,\n",
       " -22.62375932807377,\n",
       " -23.44621425380634,\n",
       " -24.267576303368994,\n",
       " -25.08809208274282,\n",
       " -25.907952211283725,\n",
       " -26.72729677846993,\n",
       " -27.546227829540694,\n",
       " -28.364821036273458,\n",
       " -29.18313407729699,\n",
       " -30.001212040908936,\n",
       " -30.81909086838852,\n",
       " -31.636799641239485,\n",
       " -32.45436217590025,\n",
       " -33.271798175842704,\n",
       " -34.089124085156435,\n",
       " -34.906353733570285,\n",
       " -35.72349883185629,\n",
       " -36.54056935759271,\n",
       " -37.35757385914835,\n",
       " -38.17451969773938,\n",
       " -38.99141324197343,\n",
       " 0.1732566593710099,\n",
       " -0.6222399576235534,\n",
       " -1.416498094570193,\n",
       " -2.207620295456787,\n",
       " -2.9938969991997904,\n",
       " -3.773873263861867,\n",
       " -4.54644297140221,\n",
       " -5.310959656465169,\n",
       " -6.067348614909295,\n",
       " -6.8162005302904625,\n",
       " -7.55882386268823,\n",
       " -8.297233254529768,\n",
       " -9.034055712704582,\n",
       " -9.772346233246925,\n",
       " -10.515319590823484,\n",
       " -11.266023322420738,\n",
       " -12.026994820345015,\n",
       " -12.799957942927932,\n",
       " -13.58561658836484,\n",
       " -14.383590880463293,\n",
       " -15.192516129542694,\n",
       " -16.01029031098793,\n",
       " -16.83442133851278,\n",
       " -17.662401530669868,\n",
       " -18.49203192399386,\n",
       " -19.32163611302736,\n",
       " -20.15013691086828,\n",
       " -20.977007703787834,\n",
       " -21.80214045136393,\n",
       " -22.625684367782743,\n",
       " -23.447901969238597,\n",
       " -24.26906901654222,\n",
       " -25.0894225657705,\n",
       " -25.909145854477146,\n",
       " -26.728373547125575,\n",
       " -27.547203737216936,\n",
       " -28.365709166112236,\n",
       " -29.183945278814843,\n",
       " -30.0019554175621,\n",
       " -30.8197741317944,\n",
       " -31.63742937682396,\n",
       " -32.45494404678914,\n",
       " -33.27233708213791,\n",
       " -34.08962429015663,\n",
       " -34.906818965012995,\n",
       " -35.723932363975216,\n",
       " -36.54097407823634,\n",
       " -37.35795232512649,\n",
       " -38.1748741807962,\n",
       " -38.99174576722642,\n",
       " 0.20527258874299092,\n",
       " -0.5910306740513452,\n",
       " -1.3861434173772924,\n",
       " -2.1782416648804226,\n",
       " -2.9656820588370714,\n",
       " -3.7470660004529512,\n",
       " -4.521330206501075,\n",
       " -5.287853246226191,\n",
       " -6.046563308431255,\n",
       " -6.798028202241733,\n",
       " -7.543505717156081,\n",
       " -8.284932477858254,\n",
       " -9.024833759463329,\n",
       " -9.766146252199565,\n",
       " -10.511960237443395,\n",
       " -11.265205235229567,\n",
       " -12.028320376446544,\n",
       " -12.802962762400046,\n",
       " -13.589809032577923,\n",
       " -14.388494021628139,\n",
       " -15.197705887962464,\n",
       " -16.015424008615256,\n",
       " -16.83925280422645,\n",
       " -17.666781704202993,\n",
       " -18.495896900720407,\n",
       " -19.324986907717772,\n",
       " -20.15301625273822,\n",
       " -20.979478715356557,\n",
       " -21.804270439054388,\n",
       " -22.627534859645557,\n",
       " -23.449524327291577,\n",
       " -24.270503923867874,\n",
       " -25.090701525370598,\n",
       " -25.91029327341414,\n",
       " -26.729408617532755,\n",
       " -27.548141852521958,\n",
       " -28.366562902807704,\n",
       " -29.184725066265933,\n",
       " -30.00267000669045,\n",
       " -30.820430935582323,\n",
       " -31.638034725674352,\n",
       " -32.455503384521286,\n",
       " -33.27285511909551,\n",
       " -34.09010512454061,\n",
       " -34.90726618020292,\n",
       " -35.72434910740894,\n",
       " -36.54136312592935,\n",
       " -37.35831613487528,\n",
       " -38.175214936370786,\n",
       " -38.99206541532095,\n",
       " 0.23604868988391361,\n",
       " -0.5610299810652275,\n",
       " -1.3569642358350447,\n",
       " -2.1500007322029746,\n",
       " -2.938559752056617,\n",
       " -3.7212968578365175,\n",
       " -4.497189942336134,\n",
       " -5.265641639926831,\n",
       " -6.026582920325661,\n",
       " -6.780559604048129,\n",
       " -7.528780772247829,\n",
       " -8.273108053130295,\n",
       " -9.015968929635267,\n",
       " -9.760186367619347,\n",
       " -10.508730976215565,\n",
       " -11.264418828755307,\n",
       " -12.029594599917447,\n",
       " -12.805851219171347,\n",
       " -13.593839122900473,\n",
       " -14.393207286910686,\n",
       " -15.202694671144984,\n",
       " -16.02035890197942,\n",
       " -16.843897169715117,\n",
       " -17.67099225396102,\n",
       " -18.499612204851086,\n",
       " -19.32820794169422,\n",
       " -20.15578409107204,\n",
       " -20.98185403612503,\n",
       " -21.80631794221535,\n",
       " -22.62931369055404,\n",
       " -23.451083858953,\n",
       " -24.271883263897923,\n",
       " -25.091930956806134,\n",
       " -25.911396258145444,\n",
       " -26.730403604470958,\n",
       " -27.54904363897875,\n",
       " -28.367383578246553,\n",
       " -29.185474656171134,\n",
       " -30.003356923101126,\n",
       " -30.82106230441038,\n",
       " -31.638616632175612,\n",
       " -32.45604106170118,\n",
       " -33.27335309488802,\n",
       " -34.090567338442355,\n",
       " -34.90769607682586,\n",
       " -35.72474971230522,\n",
       " -36.541737107612356,\n",
       " -37.35866585596237,\n",
       " -38.175542496064786,\n",
       " -38.992372684929535,\n",
       " 0.26563297558218235,\n",
       " -0.5321910755656876,\n",
       " -1.328915028457063,\n",
       " -2.1228534396694103,\n",
       " -2.912487766235058,\n",
       " -3.696525634416334,\n",
       " -4.473984518471134,\n",
       " -5.244290185966865,\n",
       " -6.007376279842794,\n",
       " -6.763767483521187,\n",
       " -7.514626056058724,\n",
       " -8.261741533447774,\n",
       " -9.007447393489446,\n",
       " -9.754457281685347,\n",
       " -10.50562676927522,\n",
       " -11.26366287615095,\n",
       " -12.03081947863207,\n",
       " -12.808627819428734,\n",
       " -13.59771314654454,\n",
       " -14.397738029321886,\n",
       " -15.20749026192767,\n",
       " -16.025102689846097,\n",
       " -16.848361680501416,\n",
       " -17.67503974868486,\n",
       " -18.50318363251032,\n",
       " -19.331304239986416,\n",
       " -20.158444743883752,\n",
       " -20.984137371753466,\n",
       " -21.808286155089522,\n",
       " -22.631023635604073,\n",
       " -23.452582997197176,\n",
       " -24.27320918849563,\n",
       " -25.09311277807286,\n",
       " -25.912456529401453,\n",
       " -26.73136006018675,\n",
       " -27.549910503434848,\n",
       " -28.36817247273768,\n",
       " -29.186195217941155,\n",
       " -30.004017238429924,\n",
       " -30.821669223256425,\n",
       " -31.639176004141024,\n",
       " -32.4565579171414,\n",
       " -33.27383178639117,\n",
       " -34.09101165294668,\n",
       " -34.90810932554943,\n",
       " -35.725134803634695,\n",
       " -36.54209660672189,\n",
       " -37.35900203397623,\n",
       " -38.17585737089332,\n",
       " -38.99266805541346,\n",
       " 0.2940715993139264,\n",
       " -0.5044689669198554,\n",
       " -1.3019520365926764,\n",
       " -2.096757435676899,\n",
       " -2.887425427320378,\n",
       " -3.6727136854172464,\n",
       " -4.451677732883573,\n",
       " -5.223765574641578,\n",
       " -5.988913423331264,\n",
       " -6.747625643823099,\n",
       " -7.501019486279173,\n",
       " -8.25081518627524,\n",
       " -8.999255856856143,\n",
       " -9.74895005663805,\n",
       " -10.502642773850681,\n",
       " -11.262936198079567,\n",
       " -12.031996923483618,\n",
       " -12.81129689485542,\n",
       " -13.601437147247657,\n",
       " -14.402093317124738,\n",
       " -15.212100141754792,\n",
       " -16.02966277284353,\n",
       " -16.85265330152255,\n",
       " -17.6789305027386,\n",
       " -18.506616755365545,\n",
       " -19.334280633028012,\n",
       " -20.161002361970766,\n",
       " -20.986332284399083,\n",
       " -21.810178148221382,\n",
       " -22.632667362424996,\n",
       " -23.454024080780624,\n",
       " -24.27448376619257,\n",
       " -25.094248832891466,\n",
       " -25.913475741276663,\n",
       " -26.732279476815382,\n",
       " -27.550743798257137,\n",
       " -28.368930817009563,\n",
       " -29.186887875700812,\n",
       " -30.004651982813197,\n",
       " -30.822252638954694,\n",
       " -31.639713714228485,\n",
       " -32.457054757171214,\n",
       " -33.27429194039592,\n",
       " -34.09143876121409,\n",
       " -34.908506571069466,\n",
       " -35.72550498216574,\n",
       " -36.54244218410077,\n",
       " -37.359325193377174,\n",
       " -38.176160052082324,\n",
       " -38.99295198757054,\n",
       " 0.3214089272455265,\n",
       " -0.47782040677309157,\n",
       " -1.2760331961604992,\n",
       " -2.071672008703464,\n",
       " -2.8633336363776696,\n",
       " -3.6498238625967416,\n",
       " -4.430234785487128,\n",
       " -5.204035786176403,\n",
       " -5.97116554749273,\n",
       " -6.73210890259791,\n",
       " -7.487939835744868,\n",
       " -8.240311965775977,\n",
       " -8.991381540387076,\n",
       " -9.743656100835853,\n",
       " -10.499774334708315,\n",
       " -11.262237660874481,\n",
       " -12.033128771365279,\n",
       " -12.813862609388643,\n",
       " -13.605016934701466,\n",
       " -14.406279944861225,\n",
       " -15.216531502349032,\n",
       " -16.03404626500798,\n",
       " -16.856778727996048,\n",
       " -17.682670585960327,\n",
       " -18.50991692931939,\n",
       " -19.33714176419241,\n",
       " -20.163460935389363,\n",
       " -20.988442198273273,\n",
       " -21.811996873247537,\n",
       " -22.634247435341223,\n",
       " -23.455409357890705,\n",
       " -24.275708985415697,\n",
       " -25.09534089358391,\n",
       " -25.914455483810173,\n",
       " -26.733163288708667,\n",
       " -27.5515448234416,\n",
       " -28.3696597941303,\n",
       " -29.187553710042828,\n",
       " -30.005262146494882,\n",
       " -30.822813461672926,\n",
       " -31.64023060130192,\n",
       " -32.45753235689448,\n",
       " -33.27473427477347,\n",
       " -34.0918493295622,\n",
       " -34.90888843311574,\n",
       " -35.72586082540171,\n",
       " -36.542774378873,\n",
       " -37.35963583831555,\n",
       " -38.176451011834864,\n",
       " -38.99322492435401,\n",
       " ...]"
      ]
     },
     "execution_count": 190,
     "metadata": {},
     "output_type": "execute_result"
    }
   ],
   "source": [
    "# for i in range(len(hypo_lst)):\n",
    "#     plt.plot(x,hypo_lst[i])\n"
   ]
  },
  {
   "cell_type": "code",
   "execution_count": 188,
   "metadata": {},
   "outputs": [
    {
     "data": {
      "text/plain": [
       "[<matplotlib.lines.Line2D at 0x253f49df400>]"
      ]
     },
     "execution_count": 188,
     "metadata": {},
     "output_type": "execute_result"
    },
    {
     "data": {
      "image/png": "[encoded data removed]",
      "text/plain": [
       "<Figure size 432x288 with 1 Axes>"
      ]
     },
     "metadata": {
      "needs_background": "light"
     },
     "output_type": "display_data"
    }
   ],
   "source": [
    "plt.plot(x,y_predict)"
   ]
  },
  {
   "cell_type": "code",
   "execution_count": null,
   "metadata": {},
   "outputs": [],
   "source": []
  }
 ],
 "metadata": {
  "kernelspec": {
   "display_name": "Python 3",
   "language": "python",
   "name": "python3"
  },
  "language_info": {
   "codemirror_mode": {
    "name": "ipython",
    "version": 3
   },
   "file_extension": ".py",
   "mimetype": "text/x-python",
   "name": "python",
   "nbconvert_exporter": "python",
   "pygments_lexer": "ipython3",
   "version": "3.8.5"
  }
 },
 "nbformat": 4,
 "nbformat_minor": 4
}
